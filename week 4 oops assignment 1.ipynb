{
 "cells": [
  {
   "cell_type": "markdown",
   "id": "58d08a53-71c3-4b4e-8602-511587d1c171",
   "metadata": {},
   "source": [
    "Q1"
   ]
  },
  {
   "cell_type": "markdown",
   "id": "34c3e12d-7199-486a-9683-5ebbc2be0bb1",
   "metadata": {},
   "source": [
    "class is nothing but a template in object oriented programming. It has attributes(data), methods, etc.\n",
    "and object is the part of that class, which is specific to function of method. one executable programme has mutiple classes"
   ]
  },
  {
   "cell_type": "code",
   "execution_count": 10,
   "id": "a85e3269-85c7-4107-8d4b-606a6bfd0438",
   "metadata": {},
   "outputs": [
    {
     "ename": "SyntaxError",
     "evalue": "invalid syntax (3107054538.py, line 8)",
     "output_type": "error",
     "traceback": [
      "\u001b[0;36m  Cell \u001b[0;32mIn[10], line 8\u001b[0;36m\u001b[0m\n\u001b[0;31m    @static Method\u001b[0m\n\u001b[0m            ^\u001b[0m\n\u001b[0;31mSyntaxError\u001b[0m\u001b[0;31m:\u001b[0m invalid syntax\n"
     ]
    }
   ],
   "source": [
    "class BIM():\n",
    "    \n",
    "    def __init__(self, arc, stru, mep):\n",
    "        self.arc = arc\n",
    "        self.stru = stru\n",
    "        self.mep = mep\n",
    "        \n",
    "    @static Method   \n",
    "    def field_arc(self):\n",
    "        print(\"architecture include\")\n",
    "        \n",
    "    def field_stru(self):\n",
    "        print(\"structure include\")\n",
    "        \n",
    "    def field_mep(self):\n",
    "        print(\"mep include\")"
   ]
  },
  {
   "cell_type": "code",
   "execution_count": 11,
   "id": "4fffaf7d-7619-4c09-8cff-dd500914d708",
   "metadata": {},
   "outputs": [],
   "source": [
    "field = BIM(\"hasan_architecture\", \"hasan_structure\", \"hasan_mep\")"
   ]
  },
  {
   "cell_type": "markdown",
   "id": "09837204-fadd-4c2f-9d55-5a8037552314",
   "metadata": {},
   "source": [
    "In this example BIM is a class, it has attributes like arc,stru, mep\n",
    ". The class has method like field_arc, field_stru, and field_mep"
   ]
  },
  {
   "cell_type": "code",
   "execution_count": 12,
   "id": "8a81461a-1969-4e47-945f-fc8dbd35c0d1",
   "metadata": {},
   "outputs": [
    {
     "ename": "TypeError",
     "evalue": "'BIM' object is not callable",
     "output_type": "error",
     "traceback": [
      "\u001b[0;31m---------------------------------------------------------------------------\u001b[0m",
      "\u001b[0;31mTypeError\u001b[0m                                 Traceback (most recent call last)",
      "Cell \u001b[0;32mIn[12], line 1\u001b[0m\n\u001b[0;32m----> 1\u001b[0m \u001b[43mfield\u001b[49m\u001b[43m(\u001b[49m\u001b[43m)\u001b[49m\n",
      "\u001b[0;31mTypeError\u001b[0m: 'BIM' object is not callable"
     ]
    }
   ],
   "source": [
    "field()"
   ]
  },
  {
   "cell_type": "markdown",
   "id": "e97ae193-f386-4f10-9621-8f6fe3cbb56f",
   "metadata": {},
   "source": [
    "Q2"
   ]
  },
  {
   "cell_type": "markdown",
   "id": "3d98ede4-e7cd-4449-8810-337b6f3c287a",
   "metadata": {},
   "source": [
    "Four pillers of OOPS are as follows\n",
    "1.Encapsulation -It is the property In which we hide the internal details of objects.\n",
    "\n",
    "2.Polymorphish - It is the ability to take multiple forms or having multiple behaviors.\n",
    "\n",
    "3.Inheritance - It is the property in which we can inherit or invoke any passing arguments. or from one class to another class.\n",
    "\n",
    "4.Abstraction - abstraction is the ability to make a skeleton/Blueprint of code. by using abstractmethod we can call main or skeleton class and apply method to it.\n"
   ]
  },
  {
   "cell_type": "code",
   "execution_count": null,
   "id": "138fd0a7-e5db-4fe4-be48-e0f52f743853",
   "metadata": {},
   "outputs": [],
   "source": []
  },
  {
   "cell_type": "markdown",
   "id": "b1634b4b-22c8-4db6-a67b-24ab66ff6766",
   "metadata": {},
   "source": [
    "Q3"
   ]
  },
  {
   "cell_type": "markdown",
   "id": "8419b099-1c5a-4f15-8360-1b9515a6a0d0",
   "metadata": {},
   "source": [
    "__init__func(): by using init function we can pass the argument by using class and that can be invoke by using class.name of argument"
   ]
  },
  {
   "cell_type": "code",
   "execution_count": 19,
   "id": "4ed2d926-b455-47fc-b269-e3a5449968e2",
   "metadata": {},
   "outputs": [],
   "source": [
    "class person():\n",
    "    \n",
    "    def __init__(self, name, age):\n",
    "        self.name = name\n",
    "        self.age = age\n",
    "        \n",
    "    def display_info(self):\n",
    "        print(f\"Name : {self.name}\")\n",
    "        print(f\"Age : {self.age}\")\n",
    "    \n",
    "\n",
    "        "
   ]
  },
  {
   "cell_type": "code",
   "execution_count": 21,
   "id": "02c84c03-ba50-4dee-88e0-0c874b4f3f6f",
   "metadata": {},
   "outputs": [],
   "source": [
    "person1 = person(\"Hasan\", 25)"
   ]
  },
  {
   "cell_type": "code",
   "execution_count": 22,
   "id": "6e6009de-6de5-4ed7-904b-1884a571e558",
   "metadata": {},
   "outputs": [
    {
     "name": "stdout",
     "output_type": "stream",
     "text": [
      "Hasan\n",
      "25\n"
     ]
    }
   ],
   "source": [
    "print(person1.name)\n",
    "print(person1.age)"
   ]
  },
  {
   "cell_type": "code",
   "execution_count": 23,
   "id": "e2b8c5df-1558-42ab-b5a1-6eb0a0c67f04",
   "metadata": {},
   "outputs": [
    {
     "name": "stdout",
     "output_type": "stream",
     "text": [
      "Name : Hasan\n",
      "Age : 25\n"
     ]
    }
   ],
   "source": [
    "person1.display_info()"
   ]
  },
  {
   "cell_type": "markdown",
   "id": "62e55c1c-38c4-4330-9816-c881811018d0",
   "metadata": {},
   "source": [
    "Q4"
   ]
  },
  {
   "cell_type": "markdown",
   "id": "417dc228-907b-4aff-931c-bb88e7cc3f99",
   "metadata": {},
   "source": [
    "In object oriented programming \"self\" is used as a reference to the current instance of class. It is a convention in python.\n"
   ]
  },
  {
   "cell_type": "markdown",
   "id": "e120a1ef-eacb-4f66-aed0-982253e24418",
   "metadata": {},
   "source": [
    "Q5"
   ]
  },
  {
   "cell_type": "markdown",
   "id": "3d4fbf2b-753d-4fbb-aa38-71bd096debf2",
   "metadata": {},
   "source": [
    "Inheritance is the property of python that allows to inherit or invoke the properties and methods of one class to another class.\n",
    "Inheritance promoted code reuse, modularity, and the organization of related classes."
   ]
  },
  {
   "cell_type": "code",
   "execution_count": 19,
   "id": "86cdfb40-ac41-4ef7-85d6-52cbc0aa79ea",
   "metadata": {},
   "outputs": [],
   "source": [
    "#1.Single inheritance\n",
    "class Vehicle():\n",
    "    def __init__(self, name):\n",
    "        self.name = name\n",
    "        \n",
    "    def drive(self):\n",
    "        print(f\"{self.name} is being driven.\")\n",
    "        \n",
    "class Car(Vehicle):\n",
    "    def honk(self):\n",
    "        print(\"car honking\")"
   ]
  },
  {
   "cell_type": "code",
   "execution_count": 20,
   "id": "d3813b79-36bd-44f7-b958-a57fa5275164",
   "metadata": {},
   "outputs": [],
   "source": [
    "car = Car(\"Toyota\")"
   ]
  },
  {
   "cell_type": "code",
   "execution_count": 21,
   "id": "3473fb53-5f00-4789-b095-1be36fcdca53",
   "metadata": {},
   "outputs": [
    {
     "name": "stdout",
     "output_type": "stream",
     "text": [
      "Toyota is being driven.\n"
     ]
    }
   ],
   "source": [
    "car.drive()"
   ]
  },
  {
   "cell_type": "code",
   "execution_count": 22,
   "id": "1aec6930-84ba-41fc-afb3-d8f57795b8bd",
   "metadata": {},
   "outputs": [
    {
     "name": "stdout",
     "output_type": "stream",
     "text": [
      "car honking\n"
     ]
    }
   ],
   "source": [
    "car.honk()"
   ]
  },
  {
   "cell_type": "code",
   "execution_count": null,
   "id": "42c88f9a-14ba-43d5-b018-2fc76cf585c4",
   "metadata": {},
   "outputs": [],
   "source": []
  },
  {
   "cell_type": "code",
   "execution_count": 33,
   "id": "b37b9030-25c1-45da-9938-c88ba82653c0",
   "metadata": {},
   "outputs": [
    {
     "name": "stdout",
     "output_type": "stream",
     "text": [
      "Road and Infra developments\n"
     ]
    }
   ],
   "source": [
    "#2.Multiple inheritance\n",
    "\n",
    "class Buildings():\n",
    "    \n",
    "    def residential_buildings(self):\n",
    "        print(\"Residential buildings are bunglow and flats\")\n",
    "        \n",
    "    def Commercial_buildings(self):\n",
    "        print(\"Commercial buildings are malls, shops\")\n",
    "        \n",
    "class Land_and_transport():\n",
    "    print(\"Road and Infra developments\")\n",
    "    \n",
    "class construction(Buildings, Land_and_transport):\n",
    "    pass\n"
   ]
  },
  {
   "cell_type": "code",
   "execution_count": 34,
   "id": "e7abc797-3511-4845-ba4b-0d255ae85e40",
   "metadata": {},
   "outputs": [],
   "source": [
    "c = construction()"
   ]
  },
  {
   "cell_type": "code",
   "execution_count": 36,
   "id": "e8bd5630-30f5-4ae5-a3db-5e466c05348d",
   "metadata": {},
   "outputs": [
    {
     "name": "stdout",
     "output_type": "stream",
     "text": [
      "Commercial buildings are malls, shops\n"
     ]
    }
   ],
   "source": [
    "c.Commercial_buildings()"
   ]
  },
  {
   "cell_type": "code",
   "execution_count": null,
   "id": "ae2d604f-990f-45ee-900a-49b83fb1363d",
   "metadata": {},
   "outputs": [],
   "source": []
  },
  {
   "cell_type": "code",
   "execution_count": null,
   "id": "6f5ec504-bc19-4514-a5f7-82637289790d",
   "metadata": {},
   "outputs": [],
   "source": [
    "#3.Multilevel Inheritance"
   ]
  },
  {
   "cell_type": "code",
   "execution_count": 39,
   "id": "4c1650f2-fde2-4751-88cc-0d18a63977f4",
   "metadata": {},
   "outputs": [],
   "source": [
    "class Employee:\n",
    "    def __init__(self, name):\n",
    "        self.name = name\n",
    "        \n",
    "    def display_info(self):\n",
    "        print(f\"Employee : {self.name}\")\n",
    "        \n",
    "class Manager(Employee):\n",
    "    def display_info(self):\n",
    "        print(f\"Manager : {self.name}\")\n",
    "    \n",
    "class Executive(Manager):\n",
    "    def display_info(self):\n",
    "        print(f\"Executive : {self.name}\")"
   ]
  },
  {
   "cell_type": "code",
   "execution_count": 44,
   "id": "2856cb32-8ee4-46c1-bd46-29742cda04f4",
   "metadata": {},
   "outputs": [
    {
     "name": "stdout",
     "output_type": "stream",
     "text": [
      "Manager : Hasan\n"
     ]
    }
   ],
   "source": [
    "mgr = Manager(\"Hasan\")\n",
    "mgr.display_info()"
   ]
  },
  {
   "cell_type": "code",
   "execution_count": null,
   "id": "2e4927cd-4602-4164-8499-51f57a8af2f3",
   "metadata": {},
   "outputs": [],
   "source": []
  },
  {
   "cell_type": "code",
   "execution_count": 46,
   "id": "2501caf2-7729-491e-94f1-cba638f81f47",
   "metadata": {},
   "outputs": [],
   "source": [
    "#4.Hierarchical Inheritance:\n",
    "\n",
    "class Shape:\n",
    "    def area(self):\n",
    "        pass\n",
    "\n",
    "class Square(Shape):\n",
    "    def area(self, side):\n",
    "        return side * side\n",
    "\n",
    "class Circle(Shape):\n",
    "    def area(self, radius):\n",
    "        return 3.14 * radius * radius\n"
   ]
  },
  {
   "cell_type": "code",
   "execution_count": null,
   "id": "9528edb8-3f66-47a0-9b1e-9619cd88f4ae",
   "metadata": {},
   "outputs": [],
   "source": []
  }
 ],
 "metadata": {
  "kernelspec": {
   "display_name": "Python 3 (ipykernel)",
   "language": "python",
   "name": "python3"
  },
  "language_info": {
   "codemirror_mode": {
    "name": "ipython",
    "version": 3
   },
   "file_extension": ".py",
   "mimetype": "text/x-python",
   "name": "python",
   "nbconvert_exporter": "python",
   "pygments_lexer": "ipython3",
   "version": "3.10.8"
  }
 },
 "nbformat": 4,
 "nbformat_minor": 5
}
