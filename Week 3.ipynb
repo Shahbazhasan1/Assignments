{
 "cells": [
  {
   "cell_type": "markdown",
   "id": "31de4136-3e5e-4e2d-894d-8ff980084fc7",
   "metadata": {},
   "source": [
    "Q1"
   ]
  },
  {
   "cell_type": "code",
   "execution_count": 1,
   "id": "af317154-e418-4acf-9587-c218ca3a2400",
   "metadata": {},
   "outputs": [],
   "source": [
    "data = [('Sachin Tendulkar', 34357), ('Ricky Ponting', 27483), ('Jack Kallis', 25534), ('Virat Kohli', 24936)]"
   ]
  },
  {
   "cell_type": "code",
   "execution_count": 2,
   "id": "9864a68a-9841-4b64-a8f8-ac7de85c84d2",
   "metadata": {},
   "outputs": [],
   "source": [
    "sorted_data = sorted(data, key= lambda x : x[1])"
   ]
  },
  {
   "cell_type": "code",
   "execution_count": 3,
   "id": "cb706e96-3b57-4ac5-92f4-2d94d5fadf4a",
   "metadata": {},
   "outputs": [
    {
     "data": {
      "text/plain": [
       "[('Virat Kohli', 24936),\n",
       " ('Jack Kallis', 25534),\n",
       " ('Ricky Ponting', 27483),\n",
       " ('Sachin Tendulkar', 34357)]"
      ]
     },
     "execution_count": 3,
     "metadata": {},
     "output_type": "execute_result"
    }
   ],
   "source": [
    "sorted_data"
   ]
  },
  {
   "cell_type": "code",
   "execution_count": null,
   "id": "d2ce88a0-30da-4b6d-88c6-46b06398cc0b",
   "metadata": {},
   "outputs": [],
   "source": []
  },
  {
   "cell_type": "markdown",
   "id": "6c9f551e-a283-48ce-92b4-3e4e106293c1",
   "metadata": {},
   "source": [
    "Q2"
   ]
  },
  {
   "cell_type": "code",
   "execution_count": 4,
   "id": "565ad1a2-73cc-4845-9bdf-84f22927ef72",
   "metadata": {},
   "outputs": [],
   "source": [
    "data = [1, 2, 3, 4, 5, 6, 7, 8, 9, 10]"
   ]
  },
  {
   "cell_type": "code",
   "execution_count": 5,
   "id": "9e7d4f87-5536-4912-8e64-9bce4f0946d0",
   "metadata": {},
   "outputs": [],
   "source": [
    "squares = list(map(lambda x : x**2, data))"
   ]
  },
  {
   "cell_type": "code",
   "execution_count": 6,
   "id": "1b092112-9f80-4aa0-b47b-6db6bd5199c8",
   "metadata": {},
   "outputs": [
    {
     "data": {
      "text/plain": [
       "[1, 4, 9, 16, 25, 36, 49, 64, 81, 100]"
      ]
     },
     "execution_count": 6,
     "metadata": {},
     "output_type": "execute_result"
    }
   ],
   "source": [
    "squares"
   ]
  },
  {
   "cell_type": "markdown",
   "id": "dafafa3b-18e2-4ce0-bb39-fc5aebd453dc",
   "metadata": {},
   "source": [
    "Q3"
   ]
  },
  {
   "cell_type": "code",
   "execution_count": 7,
   "id": "8d579ae1-7466-4439-a2ae-39f4b6e2ffe5",
   "metadata": {},
   "outputs": [],
   "source": [
    "s = [1, 2, 3, 4, 5, 6, 7, 8, 9, 10]"
   ]
  },
  {
   "cell_type": "code",
   "execution_count": 8,
   "id": "1dff8598-6b89-4d4a-84e0-b7181a0ffcb1",
   "metadata": {},
   "outputs": [],
   "source": [
    "l = tuple(map(lambda x : str(x) , s))"
   ]
  },
  {
   "cell_type": "code",
   "execution_count": 9,
   "id": "e0d8ac2c-bc55-46b0-ac57-cd584137dfee",
   "metadata": {},
   "outputs": [
    {
     "data": {
      "text/plain": [
       "('1', '2', '3', '4', '5', '6', '7', '8', '9', '10')"
      ]
     },
     "execution_count": 9,
     "metadata": {},
     "output_type": "execute_result"
    }
   ],
   "source": [
    "l"
   ]
  },
  {
   "cell_type": "markdown",
   "id": "a575a4f9-1df2-4687-9ee5-b7a88a3258ae",
   "metadata": {},
   "source": [
    "Q4"
   ]
  },
  {
   "cell_type": "code",
   "execution_count": 10,
   "id": "87398e90-585b-462d-b7ce-1bd87ef25091",
   "metadata": {},
   "outputs": [],
   "source": [
    "from functools import reduce"
   ]
  },
  {
   "cell_type": "code",
   "execution_count": 11,
   "id": "f11d366d-9eeb-4fcf-bc0a-c0437655114b",
   "metadata": {},
   "outputs": [
    {
     "name": "stdout",
     "output_type": "stream",
     "text": [
      "[1, 2, 3, 4, 5, 6, 7, 8, 9, 10, 11, 12, 13, 14, 15, 16, 17, 18, 19, 20, 21, 22, 23, 24, 25]\n"
     ]
    }
   ],
   "source": [
    "num = list(range(1,26))\n",
    "print(num)"
   ]
  },
  {
   "cell_type": "code",
   "execution_count": 12,
   "id": "4014a0bf-5530-469b-ad8f-877097c5665b",
   "metadata": {},
   "outputs": [
    {
     "data": {
      "text/plain": [
       "15511210043330985984000000"
      ]
     },
     "execution_count": 12,
     "metadata": {},
     "output_type": "execute_result"
    }
   ],
   "source": [
    "reduce(lambda x,y : x*y , num)"
   ]
  },
  {
   "cell_type": "code",
   "execution_count": 13,
   "id": "d438148d-76e9-4d97-89c8-d7182722bef5",
   "metadata": {},
   "outputs": [],
   "source": [
    "l = [1,2,3]"
   ]
  },
  {
   "cell_type": "code",
   "execution_count": 14,
   "id": "103f4b2e-5287-462a-96cf-17a74e0f408c",
   "metadata": {},
   "outputs": [
    {
     "data": {
      "text/plain": [
       "6"
      ]
     },
     "execution_count": 14,
     "metadata": {},
     "output_type": "execute_result"
    }
   ],
   "source": [
    "reduce(lambda x,y : x*y,l)"
   ]
  },
  {
   "cell_type": "markdown",
   "id": "e8df6f7f-2b1f-4fd7-b378-cfce0ffbb27c",
   "metadata": {},
   "source": [
    "Q5"
   ]
  },
  {
   "cell_type": "code",
   "execution_count": 15,
   "id": "08788998-c20a-4402-b81b-0ad3ebd9ff3b",
   "metadata": {},
   "outputs": [],
   "source": [
    "l = [2, 3, 6, 9, 27, 60, 90, 120, 55, 46]"
   ]
  },
  {
   "cell_type": "code",
   "execution_count": 16,
   "id": "76053a94-a998-4edc-b6e0-f94cf3943207",
   "metadata": {},
   "outputs": [
    {
     "name": "stdout",
     "output_type": "stream",
     "text": [
      "2\n",
      "3\n",
      "6\n",
      "9\n",
      "27\n",
      "60\n",
      "90\n",
      "120\n",
      "46\n"
     ]
    }
   ],
   "source": [
    "for i in l:\n",
    "    if i%2 == 0 or i%3 == 0:\n",
    "        print(i)"
   ]
  },
  {
   "cell_type": "code",
   "execution_count": null,
   "id": "164731a8-4068-4d9c-a631-2cdbf7523bf7",
   "metadata": {},
   "outputs": [],
   "source": []
  },
  {
   "cell_type": "code",
   "execution_count": null,
   "id": "77f9028b-f488-40e8-97a4-4641ad8dcd08",
   "metadata": {},
   "outputs": [],
   "source": []
  },
  {
   "cell_type": "code",
   "execution_count": 17,
   "id": "ab8e78da-1b15-48ff-a48c-7f68b60d5d3f",
   "metadata": {},
   "outputs": [],
   "source": [
    "#Solution of question\n",
    "\n",
    "numbers= [2, 3, 6, 9, 27, 60, 90, 120, 55, 46]"
   ]
  },
  {
   "cell_type": "code",
   "execution_count": 18,
   "id": "16c9ff7c-6dbf-4dc2-b244-88781abaac91",
   "metadata": {},
   "outputs": [],
   "source": [
    "def divisible_by_2_and_3(num):\n",
    "    return num % 2 == 0 or num % 3 == 0"
   ]
  },
  {
   "cell_type": "code",
   "execution_count": 19,
   "id": "847594a4-06a7-4ffe-ad39-14ef128456a8",
   "metadata": {},
   "outputs": [],
   "source": [
    "result = tuple(filter(divisible_by_2_and_3,numbers))"
   ]
  },
  {
   "cell_type": "code",
   "execution_count": 20,
   "id": "00f23165-900c-48e6-9ba2-705bab6eb713",
   "metadata": {},
   "outputs": [
    {
     "data": {
      "text/plain": [
       "(2, 3, 6, 9, 27, 60, 90, 120, 46)"
      ]
     },
     "execution_count": 20,
     "metadata": {},
     "output_type": "execute_result"
    }
   ],
   "source": [
    "(result)"
   ]
  },
  {
   "cell_type": "code",
   "execution_count": 21,
   "id": "376c1885-4d85-4afa-a79f-6a22c67ad725",
   "metadata": {},
   "outputs": [],
   "source": [
    "l_list = []\n",
    "for i in result:\n",
    "    l_list.append(i)"
   ]
  },
  {
   "cell_type": "code",
   "execution_count": 22,
   "id": "194aae24-5f5d-4af0-b040-0fc5d10cad4d",
   "metadata": {},
   "outputs": [
    {
     "data": {
      "text/plain": [
       "[2, 3, 6, 9, 27, 60, 90, 120, 46]"
      ]
     },
     "execution_count": 22,
     "metadata": {},
     "output_type": "execute_result"
    }
   ],
   "source": [
    "l_list"
   ]
  },
  {
   "cell_type": "code",
   "execution_count": 23,
   "id": "7c11bd68-6f72-4532-b391-037df8971422",
   "metadata": {},
   "outputs": [],
   "source": [
    "#Using lambda function"
   ]
  },
  {
   "cell_type": "code",
   "execution_count": 24,
   "id": "2d7700ac-a53a-4142-b720-d8c58848f9ef",
   "metadata": {},
   "outputs": [],
   "source": [
    "num = [2, 3, 6, 9, 27, 60, 90, 120, 55, 46]"
   ]
  },
  {
   "cell_type": "code",
   "execution_count": 25,
   "id": "0e68b219-a4dc-4d76-b706-b2a73688f336",
   "metadata": {},
   "outputs": [],
   "source": [
    "filter_number = tuple(filter(lambda x : x % 2 == 0 or x % 3 == 0, num))"
   ]
  },
  {
   "cell_type": "code",
   "execution_count": 26,
   "id": "b6246631-9d34-4bdc-b253-d3bc74a82d5d",
   "metadata": {},
   "outputs": [
    {
     "data": {
      "text/plain": [
       "(2, 3, 6, 9, 27, 60, 90, 120, 46)"
      ]
     },
     "execution_count": 26,
     "metadata": {},
     "output_type": "execute_result"
    }
   ],
   "source": [
    "filter_number"
   ]
  },
  {
   "cell_type": "code",
   "execution_count": null,
   "id": "d52d2c87-5e52-451e-bb72-d448f6826849",
   "metadata": {},
   "outputs": [],
   "source": []
  },
  {
   "cell_type": "code",
   "execution_count": null,
   "id": "8caebeb4-517b-4584-b485-822e3fde6029",
   "metadata": {},
   "outputs": [],
   "source": []
  },
  {
   "cell_type": "markdown",
   "id": "c22d3800-377d-48e7-be52-58e6e2b7ee53",
   "metadata": {},
   "source": [
    "Q6"
   ]
  },
  {
   "cell_type": "code",
   "execution_count": 27,
   "id": "3a3be1d2-dcab-4e4a-aca0-2a78cad7992e",
   "metadata": {},
   "outputs": [],
   "source": [
    "given_list = ['python', 'php', 'aba', 'radar', 'level']"
   ]
  },
  {
   "cell_type": "code",
   "execution_count": 28,
   "id": "4057c712-79a9-4258-9895-951a8206a628",
   "metadata": {},
   "outputs": [],
   "source": [
    " palindromes = []\n",
    "for i in given_list:\n",
    "   \n",
    "    if i[:] == i[::-1]:\n",
    "        palindromes.append(i)"
   ]
  },
  {
   "cell_type": "code",
   "execution_count": 29,
   "id": "a282ca18-d941-46ea-abe9-a618f95c2893",
   "metadata": {},
   "outputs": [
    {
     "data": {
      "text/plain": [
       "['php', 'aba', 'radar', 'level']"
      ]
     },
     "execution_count": 29,
     "metadata": {},
     "output_type": "execute_result"
    }
   ],
   "source": [
    "palindromes"
   ]
  },
  {
   "cell_type": "code",
   "execution_count": null,
   "id": "9378913c-db5b-415d-9cdd-26019b9675e6",
   "metadata": {},
   "outputs": [],
   "source": []
  },
  {
   "cell_type": "code",
   "execution_count": null,
   "id": "3700b6cf-b4a4-4a96-8fc1-0a4772c84814",
   "metadata": {},
   "outputs": [],
   "source": [
    "#Question solution"
   ]
  },
  {
   "cell_type": "code",
   "execution_count": 47,
   "id": "3d3e9db7-46d1-484e-a088-9e32a3097434",
   "metadata": {},
   "outputs": [],
   "source": [
    "given_list = ['python', 'php', 'aba', 'radar', 'level']"
   ]
  },
  {
   "cell_type": "code",
   "execution_count": 52,
   "id": "d974265e-d17f-4628-9a20-651dc9093dff",
   "metadata": {},
   "outputs": [],
   "source": [
    "palindromes = list(filter(lambda x : x[:] == x[::-1] , given_list))"
   ]
  },
  {
   "cell_type": "code",
   "execution_count": 53,
   "id": "9f189411-b481-4aa4-b03f-233032e5d47f",
   "metadata": {},
   "outputs": [
    {
     "name": "stdout",
     "output_type": "stream",
     "text": [
      "['php', 'aba', 'radar', 'level']\n"
     ]
    }
   ],
   "source": [
    "print(palindromes)"
   ]
  },
  {
   "cell_type": "code",
   "execution_count": null,
   "id": "d3786cac-5950-4a9c-9477-fa456f4b7cbb",
   "metadata": {},
   "outputs": [],
   "source": []
  }
 ],
 "metadata": {
  "kernelspec": {
   "display_name": "Python 3 (ipykernel)",
   "language": "python",
   "name": "python3"
  },
  "language_info": {
   "codemirror_mode": {
    "name": "ipython",
    "version": 3
   },
   "file_extension": ".py",
   "mimetype": "text/x-python",
   "name": "python",
   "nbconvert_exporter": "python",
   "pygments_lexer": "ipython3",
   "version": "3.10.8"
  }
 },
 "nbformat": 4,
 "nbformat_minor": 5
}
