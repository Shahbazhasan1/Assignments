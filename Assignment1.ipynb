{
 "cells": [
  {
   "cell_type": "markdown",
   "id": "90fb8b38-fb72-4859-9612-082954b4bac4",
   "metadata": {},
   "source": [
    "Q1"
   ]
  },
  {
   "cell_type": "code",
   "execution_count": 1,
   "id": "48987d1c-0c7f-41c8-b9e3-aa39012f72ce",
   "metadata": {},
   "outputs": [],
   "source": [
    "variable = (\"Shahbaz\", [1,2,3,4], 23.3, (1,2,3,\"pwskills\"))"
   ]
  },
  {
   "cell_type": "code",
   "execution_count": 2,
   "id": "c6799321-8b33-4627-8073-d5ad44aa5336",
   "metadata": {},
   "outputs": [
    {
     "data": {
      "text/plain": [
       "('Shahbaz', [1, 2, 3, 4], 23.3, (1, 2, 3, 'pwskills'))"
      ]
     },
     "execution_count": 2,
     "metadata": {},
     "output_type": "execute_result"
    }
   ],
   "source": [
    "variable"
   ]
  },
  {
   "cell_type": "markdown",
   "id": "f0693201-490a-4a56-9a32-ff761846dfd3",
   "metadata": {},
   "source": [
    "Q2"
   ]
  },
  {
   "cell_type": "code",
   "execution_count": 8,
   "id": "35b033e5-a2c9-4d5b-958f-73b3c542cf6c",
   "metadata": {},
   "outputs": [],
   "source": [
    "var1='' #str"
   ]
  },
  {
   "cell_type": "code",
   "execution_count": 11,
   "id": "2181b02e-ad43-4fb0-a1a8-7296d3651752",
   "metadata": {},
   "outputs": [],
   "source": [
    "var2 = '[ DS , ML , Python]' #str"
   ]
  },
  {
   "cell_type": "code",
   "execution_count": 15,
   "id": "425c26dc-6e2a-401d-b7f4-be8b85f51d16",
   "metadata": {},
   "outputs": [],
   "source": [
    "var3 = [ 'DS' , 'ML' , 'Python' ] #list"
   ]
  },
  {
   "cell_type": "code",
   "execution_count": 19,
   "id": "ccd9a65a-e04c-4ac2-9525-e40dbb0df8e8",
   "metadata": {},
   "outputs": [],
   "source": [
    "var4 = 1 #int"
   ]
  },
  {
   "cell_type": "markdown",
   "id": "74c5afc8-804c-4ab3-a6af-d979161bc805",
   "metadata": {},
   "source": [
    "Q3"
   ]
  },
  {
   "cell_type": "code",
   "execution_count": 33,
   "id": "66dccee6-2bfb-455a-8355-d8902ff62948",
   "metadata": {},
   "outputs": [
    {
     "data": {
      "text/plain": [
       "4.0"
      ]
     },
     "execution_count": 33,
     "metadata": {},
     "output_type": "execute_result"
    }
   ],
   "source": [
    "8/2  #The quotient returned by this operator is always a float number, \n",
    "     #no matter if two numbers are integers."
   ]
  },
  {
   "cell_type": "code",
   "execution_count": 28,
   "id": "65d1ab10-764d-4c09-af13-da1426924d2a",
   "metadata": {},
   "outputs": [
    {
     "data": {
      "text/plain": [
       "2"
      ]
     },
     "execution_count": 28,
     "metadata": {},
     "output_type": "execute_result"
    }
   ],
   "source": [
    "8%3 #MOD OR PERCENTILE OPERATOR IT RETURN REMAINDER"
   ]
  },
  {
   "cell_type": "code",
   "execution_count": 32,
   "id": "7f7f1b86-3c72-4305-ba61-936f75110d8a",
   "metadata": {},
   "outputs": [
    {
     "data": {
      "text/plain": [
       "4"
      ]
     },
     "execution_count": 32,
     "metadata": {},
     "output_type": "execute_result"
    }
   ],
   "source": [
    "8//2 #FLOOR DIVISION\n",
    "     #The quotient returned by this operator is dependent on the argument being passed. If any of the numbers is float,\n",
    "      #it returns output in float."
   ]
  },
  {
   "cell_type": "code",
   "execution_count": 34,
   "id": "72be1047-b6b0-4002-9135-10f4ad1f2fb9",
   "metadata": {},
   "outputs": [
    {
     "data": {
      "text/plain": [
       "16"
      ]
     },
     "execution_count": 34,
     "metadata": {},
     "output_type": "execute_result"
    }
   ],
   "source": [
    "4**2 #Power operator"
   ]
  },
  {
   "cell_type": "markdown",
   "id": "255007f0-9be0-4988-9c75-2e67926b5b2c",
   "metadata": {},
   "source": [
    "Q4"
   ]
  },
  {
   "cell_type": "code",
   "execution_count": 45,
   "id": "21f5a33e-176c-44a5-9576-e5c5bf1889b3",
   "metadata": {},
   "outputs": [],
   "source": [
    "list_10 = [8,9,10,11,(2,3,4),\"shahbaz\", \"hasan\", 23.3,(2,2,),{\"key\":\"value\"}]"
   ]
  },
  {
   "cell_type": "code",
   "execution_count": 46,
   "id": "8bb723a7-506b-4cf5-a6ba-70c4b1823411",
   "metadata": {},
   "outputs": [
    {
     "data": {
      "text/plain": [
       "10"
      ]
     },
     "execution_count": 46,
     "metadata": {},
     "output_type": "execute_result"
    }
   ],
   "source": [
    "len(list_10)"
   ]
  },
  {
   "cell_type": "code",
   "execution_count": 57,
   "id": "61452ca3-f475-4e23-bd96-3400bf0c5e5e",
   "metadata": {},
   "outputs": [
    {
     "name": "stdout",
     "output_type": "stream",
     "text": [
      "8\n",
      "<class 'int'>\n",
      "9\n",
      "<class 'int'>\n",
      "10\n",
      "<class 'int'>\n",
      "11\n",
      "<class 'int'>\n",
      "(2, 3, 4)\n",
      "<class 'tuple'>\n",
      "shahbaz\n",
      "<class 'str'>\n",
      "hasan\n",
      "<class 'str'>\n",
      "23.3\n",
      "<class 'float'>\n",
      "(2, 2)\n",
      "<class 'tuple'>\n",
      "{'key': 'value'}\n",
      "<class 'dict'>\n"
     ]
    }
   ],
   "source": [
    "for i in list_10:\n",
    "    print(i) \n",
    "    print(type(i))\n",
    "    \n",
    "    "
   ]
  },
  {
   "cell_type": "markdown",
   "id": "f86456ea-46e4-466f-886b-a5d1ce66f3c1",
   "metadata": {},
   "source": [
    "Q5"
   ]
  },
  {
   "cell_type": "code",
   "execution_count": 100,
   "id": "19f5db61-3b5b-4e93-8442-9c999d3ad3e8",
   "metadata": {},
   "outputs": [
    {
     "name": "stdin",
     "output_type": "stream",
     "text": [
      "Enter the value of A:  23\n",
      "Enter the value of B:  23\n"
     ]
    },
    {
     "name": "stdout",
     "output_type": "stream",
     "text": [
      "A is divisible by B\n",
      "A can be divided by B 1 times\n"
     ]
    }
   ],
   "source": [
    "A = int(input(\"Enter the value of A: \"))\n",
    "B = int(input(\"Enter the value of B: \"))\n",
    "\n",
    "count = 0\n",
    "\n",
    "while A % B == 0:\n",
    "    A = A // B\n",
    "    count = count + 1\n",
    "\n",
    "if count > 0:\n",
    "    print(\"A is divisible by B\")\n",
    "    print(\"A can be divided by B\", count, \"times\")\n",
    "else:\n",
    "    print(\"A is not divisible by B\")"
   ]
  },
  {
   "cell_type": "markdown",
   "id": "7332a4e1-7332-4536-9f1c-7628abc6e40c",
   "metadata": {},
   "source": [
    "Q6"
   ]
  },
  {
   "cell_type": "code",
   "execution_count": 32,
   "id": "ea74c74b-df5f-488e-8e17-d6c6993f3b72",
   "metadata": {},
   "outputs": [
    {
     "name": "stdout",
     "output_type": "stream",
     "text": [
      "[0, 1, 2, 3, 4, 5, 6, 7, 8, 9, 10, 11, 12, 13, 14, 15, 16, 17, 18, 19, 20, 21, 22, 23, 24, 25]\n"
     ]
    }
   ],
   "source": [
    "l = list(range(0,26))\n",
    "print(l)"
   ]
  },
  {
   "cell_type": "code",
   "execution_count": 35,
   "id": "090b096b-36b4-4d2b-96d0-59993f5f97f7",
   "metadata": {},
   "outputs": [
    {
     "name": "stdout",
     "output_type": "stream",
     "text": [
      "0 is divisible by 3\n",
      "1 not divisible by 3\n",
      "2 not divisible by 3\n",
      "3 is divisible by 3\n",
      "4 not divisible by 3\n",
      "5 not divisible by 3\n",
      "6 is divisible by 3\n",
      "7 not divisible by 3\n",
      "8 not divisible by 3\n",
      "9 is divisible by 3\n",
      "10 not divisible by 3\n",
      "11 not divisible by 3\n",
      "12 is divisible by 3\n",
      "13 not divisible by 3\n",
      "14 not divisible by 3\n",
      "15 is divisible by 3\n",
      "16 not divisible by 3\n",
      "17 not divisible by 3\n",
      "18 is divisible by 3\n",
      "19 not divisible by 3\n",
      "20 not divisible by 3\n",
      "21 is divisible by 3\n",
      "22 not divisible by 3\n",
      "23 not divisible by 3\n",
      "24 is divisible by 3\n",
      "25 not divisible by 3\n"
     ]
    }
   ],
   "source": [
    "for i in l:\n",
    "    if i%3 == 0:\n",
    "        print(i, \"is divisible by 3\")    \n",
    "    else :\n",
    "        print(i, \"not divisible by 3\")"
   ]
  },
  {
   "cell_type": "markdown",
   "id": "4dc5cf70-bf81-4ae8-8ff2-d9af2e9b426a",
   "metadata": {},
   "source": [
    "Q7"
   ]
  },
  {
   "cell_type": "code",
   "execution_count": 36,
   "id": "32db3815-62c1-4ece-a27e-4ca4fc1ddfee",
   "metadata": {},
   "outputs": [],
   "source": [
    "#Mutable - Mutable means changable\n",
    "#Explaination with example"
   ]
  },
  {
   "cell_type": "code",
   "execution_count": 39,
   "id": "5f92c861-49e0-46c6-b58c-da6f8b9d7eeb",
   "metadata": {},
   "outputs": [],
   "source": [
    "l = [1,2,45.5,\"Shahbaz\"] #This is the list"
   ]
  },
  {
   "cell_type": "code",
   "execution_count": 40,
   "id": "ebccd0fb-ee32-436c-a5ed-7c765424044b",
   "metadata": {},
   "outputs": [
    {
     "data": {
      "text/plain": [
       "[1, 2, 45.5, 'Shahbaz']"
      ]
     },
     "execution_count": 40,
     "metadata": {},
     "output_type": "execute_result"
    }
   ],
   "source": [
    "l"
   ]
  },
  {
   "cell_type": "code",
   "execution_count": 43,
   "id": "94406d72-2728-45a9-ab3f-c3be441f2e87",
   "metadata": {},
   "outputs": [],
   "source": [
    "l[2] = \"Hasan\" #Here we are changeing float data type with string"
   ]
  },
  {
   "cell_type": "code",
   "execution_count": 44,
   "id": "0a6fe18b-92c7-4b7e-a432-183640fd0a4c",
   "metadata": {},
   "outputs": [
    {
     "data": {
      "text/plain": [
       "[1, 2, 'Hasan', 'Shahbaz']"
      ]
     },
     "execution_count": 44,
     "metadata": {},
     "output_type": "execute_result"
    }
   ],
   "source": [
    "l  #This shows list data type is mutable"
   ]
  },
  {
   "cell_type": "code",
   "execution_count": 45,
   "id": "13c203bd-b5b3-4e9b-b804-878a5930ad05",
   "metadata": {},
   "outputs": [],
   "source": [
    "##Immutable means not changeble\n",
    "#Explaination with example"
   ]
  },
  {
   "cell_type": "code",
   "execution_count": 46,
   "id": "c8d78c97-ce44-47ed-b70c-c1001f0b27d8",
   "metadata": {},
   "outputs": [],
   "source": [
    "tuple = (2,3,\"pwskills\")"
   ]
  },
  {
   "cell_type": "code",
   "execution_count": 47,
   "id": "fab000af-10ea-4293-8315-4d8cd44b327a",
   "metadata": {},
   "outputs": [
    {
     "ename": "TypeError",
     "evalue": "'tuple' object does not support item assignment",
     "output_type": "error",
     "traceback": [
      "\u001b[0;31m---------------------------------------------------------------------------\u001b[0m",
      "\u001b[0;31mTypeError\u001b[0m                                 Traceback (most recent call last)",
      "Cell \u001b[0;32mIn[47], line 1\u001b[0m\n\u001b[0;32m----> 1\u001b[0m \u001b[38;5;28;43mtuple\u001b[39;49m\u001b[43m[\u001b[49m\u001b[38;5;241;43m1\u001b[39;49m\u001b[43m]\u001b[49m \u001b[38;5;241m=\u001b[39m \u001b[38;5;124m\"\u001b[39m\u001b[38;5;124mHasan\u001b[39m\u001b[38;5;124m\"\u001b[39m\n",
      "\u001b[0;31mTypeError\u001b[0m: 'tuple' object does not support item assignment"
     ]
    }
   ],
   "source": [
    "tuple[1] = \"Hasan\""
   ]
  },
  {
   "cell_type": "code",
   "execution_count": 48,
   "id": "da78eebb-64e1-4038-a133-b700b8d0e22b",
   "metadata": {},
   "outputs": [],
   "source": [
    "#We can't do it this shows it is immutable"
   ]
  },
  {
   "cell_type": "code",
   "execution_count": 49,
   "id": "e8e397de-e4d7-430b-be99-3020c1b2a89b",
   "metadata": {},
   "outputs": [],
   "source": [
    "s = \"shahbaz\""
   ]
  },
  {
   "cell_type": "code",
   "execution_count": 52,
   "id": "9c7af7aa-97cd-445b-bcac-071092762b63",
   "metadata": {},
   "outputs": [
    {
     "ename": "TypeError",
     "evalue": "'str' object does not support item assignment",
     "output_type": "error",
     "traceback": [
      "\u001b[0;31m---------------------------------------------------------------------------\u001b[0m",
      "\u001b[0;31mTypeError\u001b[0m                                 Traceback (most recent call last)",
      "Cell \u001b[0;32mIn[52], line 1\u001b[0m\n\u001b[0;32m----> 1\u001b[0m \u001b[43ms\u001b[49m\u001b[43m[\u001b[49m\u001b[38;5;241;43m5\u001b[39;49m\u001b[43m]\u001b[49m \u001b[38;5;241m=\u001b[39m \u001b[38;5;124m\"\u001b[39m\u001b[38;5;124mp\u001b[39m\u001b[38;5;124m\"\u001b[39m\n",
      "\u001b[0;31mTypeError\u001b[0m: 'str' object does not support item assignment"
     ]
    }
   ],
   "source": [
    "s[5] = \"p\""
   ]
  },
  {
   "cell_type": "code",
   "execution_count": 53,
   "id": "adc3c3f5-41ef-4d1b-a5d3-1bea614895ed",
   "metadata": {},
   "outputs": [],
   "source": [
    "#Strings are also immutable"
   ]
  },
  {
   "cell_type": "code",
   "execution_count": null,
   "id": "ff14952e-d464-4f5c-b5f8-09c6e4a356a0",
   "metadata": {},
   "outputs": [],
   "source": []
  }
 ],
 "metadata": {
  "kernelspec": {
   "display_name": "Python 3 (ipykernel)",
   "language": "python",
   "name": "python3"
  },
  "language_info": {
   "codemirror_mode": {
    "name": "ipython",
    "version": 3
   },
   "file_extension": ".py",
   "mimetype": "text/x-python",
   "name": "python",
   "nbconvert_exporter": "python",
   "pygments_lexer": "ipython3",
   "version": "3.10.8"
  }
 },
 "nbformat": 4,
 "nbformat_minor": 5
}
