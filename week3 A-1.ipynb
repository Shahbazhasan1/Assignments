{
 "cells": [
  {
   "cell_type": "markdown",
   "id": "2372d701-5c4a-4850-bf68-5ae42cdda954",
   "metadata": {},
   "source": [
    "Q1"
   ]
  },
  {
   "cell_type": "markdown",
   "id": "c02d46f6-6b39-46f6-99cd-48969afef1d4",
   "metadata": {},
   "source": [
    "def keyword is use to create a function"
   ]
  },
  {
   "cell_type": "code",
   "execution_count": 1,
   "id": "d63d6dfe-51d8-4f42-bc32-5e4e65d77445",
   "metadata": {},
   "outputs": [],
   "source": [
    "def odd_num():\n",
    "    odd_num_list = []\n",
    "    print(list(range(0,25)))\n",
    "    l  = list(range(0,25))\n",
    "    for i in l:\n",
    "        if i%2 != 0:\n",
    "            odd_num_list.append(i)\n",
    "    print()\n",
    "    return(odd_num_list)    "
   ]
  },
  {
   "cell_type": "code",
   "execution_count": 2,
   "id": "ce49878a-3ff8-4941-a35e-49dfb9b5d3d6",
   "metadata": {},
   "outputs": [
    {
     "name": "stdout",
     "output_type": "stream",
     "text": [
      "[0, 1, 2, 3, 4, 5, 6, 7, 8, 9, 10, 11, 12, 13, 14, 15, 16, 17, 18, 19, 20, 21, 22, 23, 24]\n",
      "\n"
     ]
    },
    {
     "data": {
      "text/plain": [
       "[1, 3, 5, 7, 9, 11, 13, 15, 17, 19, 21, 23]"
      ]
     },
     "execution_count": 2,
     "metadata": {},
     "output_type": "execute_result"
    }
   ],
   "source": [
    "odd_num()"
   ]
  },
  {
   "cell_type": "code",
   "execution_count": null,
   "id": "0949aad8-5b63-431b-8fa1-64e201c702ce",
   "metadata": {},
   "outputs": [],
   "source": []
  },
  {
   "cell_type": "markdown",
   "id": "e1d3cdad-d47c-496d-ba8c-e2973f594d50",
   "metadata": {},
   "source": [
    "Q2"
   ]
  },
  {
   "cell_type": "markdown",
   "id": "ebb2d0b7-7ec4-4e7a-82c2-6ca36edc1b20",
   "metadata": {},
   "source": [
    "*args = by using *args we can pass n numbers of input in function and can apply any operations on it.\n",
    "*args always results in tuples\n",
    "*args is not the keyword we can give * and put ony name or variable."
   ]
  },
  {
   "cell_type": "markdown",
   "id": "a4d93630-72ae-4b92-bc06-93eb470b7042",
   "metadata": {},
   "source": [
    "**kwargs = **kwargs is used for dictionary(key:value). we can pass n numbers of key,value by using **kwargs.\n",
    "**kwargs is not a keyword by using ** we can put any name or variable."
   ]
  },
  {
   "cell_type": "code",
   "execution_count": null,
   "id": "eb895410-2909-4e19-a6b9-571e30e2d431",
   "metadata": {},
   "outputs": [],
   "source": []
  },
  {
   "cell_type": "code",
   "execution_count": 3,
   "id": "9e65cb12-aed5-42df-bdc8-a851d572dd6d",
   "metadata": {},
   "outputs": [],
   "source": [
    "def arg_use(*args):\n",
    "    return(args)"
   ]
  },
  {
   "cell_type": "code",
   "execution_count": 4,
   "id": "9494a263-4359-42a2-90a2-a17a0d4da5ea",
   "metadata": {},
   "outputs": [
    {
     "data": {
      "text/plain": [
       "(1, 2, 3)"
      ]
     },
     "execution_count": 4,
     "metadata": {},
     "output_type": "execute_result"
    }
   ],
   "source": [
    "arg_use(1,2,3) #It always return as tuples"
   ]
  },
  {
   "cell_type": "code",
   "execution_count": null,
   "id": "e5decc81-d656-4f4c-8681-3e8c7fea2234",
   "metadata": {},
   "outputs": [],
   "source": []
  },
  {
   "cell_type": "code",
   "execution_count": 5,
   "id": "5bd4a2c3-4f49-40f9-9d1b-17d2854994c8",
   "metadata": {},
   "outputs": [],
   "source": [
    "def kwarg_use(**kwargs):\n",
    "    return(kwargs)"
   ]
  },
  {
   "cell_type": "code",
   "execution_count": 6,
   "id": "7188dcc7-c39c-4903-8602-e0e58180aa75",
   "metadata": {},
   "outputs": [
    {
     "data": {
      "text/plain": [
       "{'name': 'shahbaz', 'number': 29}"
      ]
     },
     "execution_count": 6,
     "metadata": {},
     "output_type": "execute_result"
    }
   ],
   "source": [
    "kwarg_use(name = \"shahbaz\", number = 29)"
   ]
  },
  {
   "cell_type": "code",
   "execution_count": null,
   "id": "2aae7ab7-df35-4855-aa0a-e45c0db6f808",
   "metadata": {},
   "outputs": [],
   "source": []
  },
  {
   "cell_type": "code",
   "execution_count": null,
   "id": "7d4f1f41-71f2-4932-9ddc-d4f718f8b0eb",
   "metadata": {},
   "outputs": [],
   "source": []
  },
  {
   "cell_type": "code",
   "execution_count": 7,
   "id": "d090bbe7-01ba-453b-bf37-0ceed446c28f",
   "metadata": {},
   "outputs": [],
   "source": [
    "def multiply_by_2(*args):\n",
    "    result = []\n",
    "    for num in args:\n",
    "        m = num * 2\n",
    "        result.append(m)\n",
    "    return result"
   ]
  },
  {
   "cell_type": "code",
   "execution_count": 8,
   "id": "ff57b741-f55e-4882-9dcf-fe3ef31fa608",
   "metadata": {},
   "outputs": [
    {
     "data": {
      "text/plain": [
       "[2, 4, 6]"
      ]
     },
     "execution_count": 8,
     "metadata": {},
     "output_type": "execute_result"
    }
   ],
   "source": [
    "multiply_by_2(1,2,3)"
   ]
  },
  {
   "cell_type": "code",
   "execution_count": null,
   "id": "fea8ff18-e201-41b6-9f05-8a8ff0ed24d2",
   "metadata": {},
   "outputs": [],
   "source": []
  },
  {
   "cell_type": "code",
   "execution_count": 9,
   "id": "f76f8ed0-5488-48a1-aa8f-8c128315b668",
   "metadata": {},
   "outputs": [],
   "source": [
    "def use_kwargs(**kwargs):\n",
    "    return(kwargs)\n",
    "    "
   ]
  },
  {
   "cell_type": "code",
   "execution_count": 10,
   "id": "9a37a1cf-f1ab-4eff-bb2a-bb00a250b9cd",
   "metadata": {},
   "outputs": [
    {
     "data": {
      "text/plain": [
       "{'home': 'ytl'}"
      ]
     },
     "execution_count": 10,
     "metadata": {},
     "output_type": "execute_result"
    }
   ],
   "source": [
    "use_kwargs(home = \"ytl\")"
   ]
  },
  {
   "cell_type": "code",
   "execution_count": null,
   "id": "55ab5ce8-820f-4c19-97a4-9e5801a85100",
   "metadata": {},
   "outputs": [],
   "source": []
  },
  {
   "cell_type": "code",
   "execution_count": null,
   "id": "9af09977-5ebd-48a4-8fd1-50d229d00090",
   "metadata": {},
   "outputs": [],
   "source": []
  },
  {
   "cell_type": "markdown",
   "id": "404cecc2-3d15-4568-afe3-b4950e880a33",
   "metadata": {},
   "source": [
    "Q3"
   ]
  },
  {
   "cell_type": "markdown",
   "id": "c7e6ee21-fe3f-416c-a733-b6e7185831c6",
   "metadata": {},
   "source": [
    "Iterotor - It is used for sequencial access of the elements from the list , tuples, strings etc. The \"iter()\" function is used to initial iterator object.\n",
    "\n",
    "the \"next()\" function is used to call or retrive the object in a sequencial manner."
   ]
  },
  {
   "cell_type": "code",
   "execution_count": 11,
   "id": "0ba3c957-a28f-49db-a68d-57d2d0e5d85e",
   "metadata": {},
   "outputs": [],
   "source": [
    "l = [2, 4, 6, 8, 10, 12, 14, 16, 18, 20]"
   ]
  },
  {
   "cell_type": "code",
   "execution_count": 12,
   "id": "51004e25-1bad-43ac-b17e-515105fcdc6f",
   "metadata": {},
   "outputs": [],
   "source": [
    "l1 = iter(l)"
   ]
  },
  {
   "cell_type": "code",
   "execution_count": 13,
   "id": "b1aed3ab-af15-4612-892a-228408fa9d97",
   "metadata": {},
   "outputs": [
    {
     "name": "stdout",
     "output_type": "stream",
     "text": [
      "2\n",
      "4\n",
      "6\n",
      "8\n",
      "10\n"
     ]
    }
   ],
   "source": [
    "for i in l[:5]:\n",
    "    print(i)"
   ]
  },
  {
   "cell_type": "code",
   "execution_count": null,
   "id": "031042c9-dd51-45a5-949b-c339a3a5161f",
   "metadata": {},
   "outputs": [],
   "source": []
  },
  {
   "cell_type": "markdown",
   "id": "8d2ea845-71e5-4efb-b248-1687f33bf592",
   "metadata": {},
   "source": [
    "Q4"
   ]
  },
  {
   "cell_type": "markdown",
   "id": "7faa0f86-78d6-4857-9ead-21f4f2378dc4",
   "metadata": {},
   "source": [
    "Generator function - Generator function is the type of function which is used to generate the variable which we need. It \n",
    "\n"
   ]
  },
  {
   "cell_type": "code",
   "execution_count": null,
   "id": "d35869ac-f8bf-4a16-bb2c-78d8dc9b5b40",
   "metadata": {},
   "outputs": [],
   "source": []
  },
  {
   "cell_type": "code",
   "execution_count": 14,
   "id": "186870ab-75f0-4cc8-8040-00fe66f8f8a5",
   "metadata": {},
   "outputs": [],
   "source": [
    "def even_number(limit):\n",
    "    num = 0\n",
    "    while num <= limit:\n",
    "        yield(num)\n",
    "        num = num + 2"
   ]
  },
  {
   "cell_type": "code",
   "execution_count": 15,
   "id": "f5a7101d-5cc1-4319-8796-45e94b00e0fd",
   "metadata": {},
   "outputs": [
    {
     "name": "stdout",
     "output_type": "stream",
     "text": [
      "0\n",
      "2\n",
      "4\n"
     ]
    }
   ],
   "source": [
    "for number in even_number(5):\n",
    "    print(number)"
   ]
  },
  {
   "cell_type": "markdown",
   "id": "d75bc7e2-e146-48b1-aa9b-68ddae11ac8a",
   "metadata": {},
   "source": [
    "Q5"
   ]
  },
  {
   "cell_type": "code",
   "execution_count": 16,
   "id": "77d757b1-9fa8-447a-8d95-2e9be99bd704",
   "metadata": {},
   "outputs": [],
   "source": [
    "def prime_num(num):\n",
    "    \n",
    "    while num > 1:\n",
    "        \n",
    "        for i in range(2,num):\n",
    "            if num % i == 0:\n",
    "                return False\n",
    "        print(num)\n",
    "                \n",
    "                "
   ]
  },
  {
   "cell_type": "code",
   "execution_count": 17,
   "id": "b8ea2fc1-6794-4080-a7b3-be3df68a8fc4",
   "metadata": {},
   "outputs": [
    {
     "data": {
      "text/plain": [
       "False"
      ]
     },
     "execution_count": 17,
     "metadata": {},
     "output_type": "execute_result"
    }
   ],
   "source": [
    "prime_num(20)"
   ]
  },
  {
   "cell_type": "code",
   "execution_count": null,
   "id": "6b1bc5c2-eb0a-4f3a-bc83-1d99aced6c3a",
   "metadata": {},
   "outputs": [],
   "source": []
  },
  {
   "cell_type": "markdown",
   "id": "f4fe58bf-c232-463d-a762-70e119e1c69a",
   "metadata": {},
   "source": [
    "Q6"
   ]
  },
  {
   "cell_type": "code",
   "execution_count": null,
   "id": "0ecce9ab-3d6f-4ce3-94f0-118fdf14bcf8",
   "metadata": {},
   "outputs": [],
   "source": []
  },
  {
   "cell_type": "code",
   "execution_count": 20,
   "id": "8c381489-8386-4076-9d2b-daf8df4db236",
   "metadata": {},
   "outputs": [],
   "source": [
    "def fib(limit):\n",
    "    \n",
    "    fib_1 = 0\n",
    "    fib_2 = 1\n",
    "    \n",
    "    range(limit)\n",
    "    \n",
    "    count = 0\n",
    "    \n",
    "    while count < int(limit):\n",
    "        \n",
    "        print(fib_1)\n",
    "\n",
    "        fib_next = fib_1 + fib_2\n",
    "        \n",
    "        fib_1 = fib_2\n",
    "        fib_2 = fib_next\n",
    "\n",
    "        count += 1\n",
    "    "
   ]
  },
  {
   "cell_type": "code",
   "execution_count": null,
   "id": "e612e409-621b-4789-b307-f13dacbee62d",
   "metadata": {},
   "outputs": [],
   "source": []
  },
  {
   "cell_type": "markdown",
   "id": "50f73a0c-eff7-4051-85a3-42685c960647",
   "metadata": {},
   "source": [
    "Q7"
   ]
  },
  {
   "cell_type": "code",
   "execution_count": 21,
   "id": "8dd974ad-c5ee-45b1-a5ee-dc43ef67e747",
   "metadata": {},
   "outputs": [],
   "source": [
    "listt = [\"pwskills\"]\n"
   ]
  },
  {
   "cell_type": "code",
   "execution_count": 22,
   "id": "8b0f21bf-edc0-4013-9be0-af0c4d304ad7",
   "metadata": {},
   "outputs": [
    {
     "name": "stdout",
     "output_type": "stream",
     "text": [
      "['pwskills']\n"
     ]
    }
   ],
   "source": [
    "listtt = []\n",
    "for i in listt:\n",
    "    listtt.append(i)\n",
    "print(listtt)"
   ]
  },
  {
   "cell_type": "code",
   "execution_count": null,
   "id": "c381b61d-ef6a-400f-be0d-1dd04c151bdc",
   "metadata": {},
   "outputs": [],
   "source": []
  },
  {
   "cell_type": "code",
   "execution_count": null,
   "id": "7f1d3fae-8cd2-4ab3-97a0-72baf0e69b79",
   "metadata": {},
   "outputs": [],
   "source": []
  },
  {
   "cell_type": "code",
   "execution_count": 23,
   "id": "13db1cb1-e68d-4bd0-80f2-f992f621f540",
   "metadata": {},
   "outputs": [],
   "source": [
    "string = \"pwskills\"\n",
    "result = [i for i in string if i in \"pwskills\" ]"
   ]
  },
  {
   "cell_type": "code",
   "execution_count": 24,
   "id": "efc84014-f001-4474-8f3d-9cd9721b8d55",
   "metadata": {},
   "outputs": [
    {
     "name": "stdout",
     "output_type": "stream",
     "text": [
      "['p', 'w', 's', 'k', 'i', 'l', 'l', 's']\n"
     ]
    }
   ],
   "source": [
    "print(result)"
   ]
  },
  {
   "cell_type": "code",
   "execution_count": null,
   "id": "229c6172-fdb9-4c4f-a009-ab019f2d163c",
   "metadata": {},
   "outputs": [],
   "source": []
  },
  {
   "cell_type": "markdown",
   "id": "30215c32-f0f0-4838-ada1-cfa8f0e29c9c",
   "metadata": {},
   "source": [
    "Q8"
   ]
  },
  {
   "cell_type": "code",
   "execution_count": 25,
   "id": "e8717712-5325-41e7-8e53-be83c7272431",
   "metadata": {},
   "outputs": [],
   "source": [
    "def palin(string):\n",
    "    while string[:] == string[::-1]:\n",
    "        print(string, \" - This word is palindrome\")\n",
    "        break\n",
    "    else:\n",
    "        print(string, \" - This word is not a palindrome\")"
   ]
  },
  {
   "cell_type": "code",
   "execution_count": 26,
   "id": "f096f723-c88f-4cc5-8cbc-6a606db56e22",
   "metadata": {},
   "outputs": [
    {
     "name": "stdout",
     "output_type": "stream",
     "text": [
      "sha  - This word is not a palindrome\n"
     ]
    }
   ],
   "source": [
    "palin(\"sha\")"
   ]
  },
  {
   "cell_type": "code",
   "execution_count": null,
   "id": "a04298d6-2ad5-4805-9012-b2947ff2cc98",
   "metadata": {},
   "outputs": [],
   "source": []
  },
  {
   "cell_type": "code",
   "execution_count": null,
   "id": "8efb9abd-204a-4e8f-bf7d-f60752341798",
   "metadata": {},
   "outputs": [],
   "source": []
  },
  {
   "cell_type": "code",
   "execution_count": 27,
   "id": "8e90a89a-a00a-47d9-b2bf-2a953957788b",
   "metadata": {},
   "outputs": [],
   "source": [
    "def palin(*string):\n",
    "    \n",
    "    for p in string:\n",
    "        p_str = str(string)\n",
    "        reversed_str = p_str[::-1]\n",
    "        \n",
    "        if p_str == reversed_str:\n",
    "            print(p, \"- This is palindrome\")          \n",
    "        else :\n",
    "            print(p, \"- This is not palindrome\")\n",
    "            \n",
    "\n"
   ]
  },
  {
   "cell_type": "code",
   "execution_count": 28,
   "id": "0dce4c9c-6f5e-432e-9e7c-3714777b73e3",
   "metadata": {},
   "outputs": [
    {
     "name": "stdout",
     "output_type": "stream",
     "text": [
      "radar - This is not palindrome\n",
      "sha - This is not palindrome\n"
     ]
    }
   ],
   "source": [
    "palin(\"radar\", \"sha\")\n",
    "    "
   ]
  },
  {
   "cell_type": "code",
   "execution_count": null,
   "id": "4764f9d7-2aa8-4617-9208-023833f36a56",
   "metadata": {},
   "outputs": [],
   "source": []
  },
  {
   "cell_type": "markdown",
   "id": "86861116-f3d2-4f3a-ac65-41a5a0a2341f",
   "metadata": {},
   "source": [
    "Q9"
   ]
  },
  {
   "cell_type": "code",
   "execution_count": 29,
   "id": "878e2548-7193-421a-b278-6e67db3c6c82",
   "metadata": {},
   "outputs": [],
   "source": [
    "l = [i for i in range(1,101) if i%2 !=0]"
   ]
  },
  {
   "cell_type": "code",
   "execution_count": 30,
   "id": "60502ccf-229a-4a0d-8f8d-511da310431a",
   "metadata": {},
   "outputs": [
    {
     "name": "stdout",
     "output_type": "stream",
     "text": [
      "[1, 3, 5, 7, 9, 11, 13, 15, 17, 19, 21, 23, 25, 27, 29, 31, 33, 35, 37, 39, 41, 43, 45, 47, 49, 51, 53, 55, 57, 59, 61, 63, 65, 67, 69, 71, 73, 75, 77, 79, 81, 83, 85, 87, 89, 91, 93, 95, 97, 99]\n"
     ]
    }
   ],
   "source": [
    "print(l)"
   ]
  },
  {
   "cell_type": "code",
   "execution_count": null,
   "id": "c160352d-0ccd-4de4-bef5-7f8881a72c85",
   "metadata": {},
   "outputs": [],
   "source": []
  },
  {
   "cell_type": "code",
   "execution_count": 31,
   "id": "587e3b64-328f-4566-bc26-cd5d5f1a0358",
   "metadata": {},
   "outputs": [
    {
     "name": "stdout",
     "output_type": "stream",
     "text": [
      "[1, 3, 5, 7, 9, 11, 13, 15, 17, 19, 21, 23, 25, 27, 29, 31, 33, 35, 37, 39, 41, 43, 45, 47, 49, 51, 53, 55, 57, 59, 61, 63, 65, 67, 69, 71, 73, 75, 77, 79, 81, 83, 85, 87, 89, 91, 93, 95, 97, 99]\n"
     ]
    }
   ],
   "source": [
    "l = [i for i in range(1,101)]\n",
    "odd_number = [i for i in l if i%2 != 0]\n",
    "print(odd_number)"
   ]
  },
  {
   "cell_type": "code",
   "execution_count": null,
   "id": "71da7166-a9fa-448b-91ec-661c2e91f922",
   "metadata": {},
   "outputs": [],
   "source": []
  }
 ],
 "metadata": {
  "kernelspec": {
   "display_name": "Python 3 (ipykernel)",
   "language": "python",
   "name": "python3"
  },
  "language_info": {
   "codemirror_mode": {
    "name": "ipython",
    "version": 3
   },
   "file_extension": ".py",
   "mimetype": "text/x-python",
   "name": "python",
   "nbconvert_exporter": "python",
   "pygments_lexer": "ipython3",
   "version": "3.10.8"
  }
 },
 "nbformat": 4,
 "nbformat_minor": 5
}
