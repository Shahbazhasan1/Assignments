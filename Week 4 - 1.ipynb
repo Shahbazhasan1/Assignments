{
 "cells": [
  {
   "cell_type": "markdown",
   "id": "ab400da3-9f60-4e8d-b551-6d54e5730413",
   "metadata": {},
   "source": [
    "Q1"
   ]
  },
  {
   "cell_type": "code",
   "execution_count": 10,
   "id": "d3d4a02f-bbf5-44df-bd8b-d834452e6d1a",
   "metadata": {},
   "outputs": [],
   "source": [
    "class vehicle :\n",
    "    def __init__(self, vehicle_name, max_speed, avg_of_vehicle):\n",
    "        self.vehicle_name = vehicle_name\n",
    "        self.max_speed = max_speed\n",
    "        self.avg_of_vehicle = avg_of_vehicle\n",
    "        \n",
    "    def for_print(self):\n",
    "        print(self.vehicle_name,self.max_speed,self.avg_of_vehicle)\n",
    "        "
   ]
  },
  {
   "cell_type": "code",
   "execution_count": 11,
   "id": "44406ec3-af10-4f79-b767-5573ec81d01a",
   "metadata": {},
   "outputs": [
    {
     "name": "stdout",
     "output_type": "stream",
     "text": [
      "mercedez 450 12\n"
     ]
    }
   ],
   "source": [
    "p = vehicle(\"mercedez\",450,12)\n",
    "p.for_print()"
   ]
  },
  {
   "cell_type": "code",
   "execution_count": null,
   "id": "3426142b-045e-42e6-be67-7c807d7db6ce",
   "metadata": {},
   "outputs": [],
   "source": []
  },
  {
   "cell_type": "markdown",
   "id": "bdddf42e-8739-43a7-8e84-2a68716699be",
   "metadata": {},
   "source": [
    "Q2"
   ]
  },
  {
   "cell_type": "code",
   "execution_count": 12,
   "id": "5d128955-256c-478b-af67-9016a58528b4",
   "metadata": {},
   "outputs": [],
   "source": [
    "class vehicle_child(vehicle):\n",
    "    def seating_capacity(self,capacity):\n",
    "        return(f\"{self.vehicle_name} has a seating capacity of {capacity} people\")"
   ]
  },
  {
   "cell_type": "code",
   "execution_count": 14,
   "id": "a7ad80f2-b340-4de4-81f8-51a36d73f23f",
   "metadata": {},
   "outputs": [
    {
     "data": {
      "text/plain": [
       "'car has a seating capacity of 2 people'"
      ]
     },
     "execution_count": 14,
     "metadata": {},
     "output_type": "execute_result"
    }
   ],
   "source": [
    "car = vehicle_child(\"car\", 200, 20)\n",
    "car.seating_capacity(2)\n"
   ]
  },
  {
   "cell_type": "code",
   "execution_count": null,
   "id": "7a20ee2e-7441-42eb-ab6f-8db8742d5de2",
   "metadata": {},
   "outputs": [],
   "source": []
  },
  {
   "cell_type": "markdown",
   "id": "ebc5fb19-0799-40b9-a0e3-7fd917fe07f1",
   "metadata": {},
   "source": [
    "Q3"
   ]
  },
  {
   "cell_type": "markdown",
   "id": "95aea1ee-4ce7-4511-883e-493b73b9dc7e",
   "metadata": {},
   "source": [
    "Multiple inheritance - before understanding in the multiple inheritance first we need to understand inheritance. inheritance is the method which allow us to inherit or invoke or extract all the properties and methods from another class.\n",
    "\n",
    "we can also say that there is a parent class and child class.\n",
    "parent class properties can used for every child class.  this is called as multiple inheritance."
   ]
  },
  {
   "cell_type": "code",
   "execution_count": null,
   "id": "bc258695-78ac-4835-beae-cd68caafb200",
   "metadata": {},
   "outputs": [],
   "source": []
  },
  {
   "cell_type": "code",
   "execution_count": 34,
   "id": "d4803b55-0f35-43a9-8655-614f50ba090c",
   "metadata": {},
   "outputs": [],
   "source": [
    "class mother_rashi():\n",
    "    def __init__(self,dob,std,age):\n",
    "        self.dob = dob\n",
    "        self.std = std\n",
    "        self.age = age\n",
    "        \n",
    "    def for_print(self):\n",
    "        print(f\"{self.dob} {self.std} {self.age} \")"
   ]
  },
  {
   "cell_type": "code",
   "execution_count": 35,
   "id": "94842c4e-db44-4a76-8596-cd5dc2a411e4",
   "metadata": {},
   "outputs": [],
   "source": [
    "class children(mother_rashi):\n",
    "    def seema(self):\n",
    "        print(\"seema\")\n",
    "    \n",
    "    def reena(self):\n",
    "        return reena\n",
    "    \n",
    "    def teena(self):\n",
    "        return teena\n",
    "    \n",
    "    "
   ]
  },
  {
   "cell_type": "code",
   "execution_count": 44,
   "id": "5ae01133-37af-49b9-92e6-446063e36894",
   "metadata": {},
   "outputs": [],
   "source": [
    "c= children(10,6,5)"
   ]
  },
  {
   "cell_type": "code",
   "execution_count": 45,
   "id": "6e0a3d5c-ab91-49b8-9d35-21bb3a152cb5",
   "metadata": {},
   "outputs": [
    {
     "name": "stdout",
     "output_type": "stream",
     "text": [
      "10 6 5 \n"
     ]
    }
   ],
   "source": [
    "c.for_print()"
   ]
  },
  {
   "cell_type": "code",
   "execution_count": 43,
   "id": "44d50a64-bb8a-4f3a-a1d3-721fc57a60b6",
   "metadata": {},
   "outputs": [
    {
     "data": {
      "text/plain": [
       "<__main__.mother_rashi at 0x7fa85820ea40>"
      ]
     },
     "execution_count": 43,
     "metadata": {},
     "output_type": "execute_result"
    }
   ],
   "source": []
  },
  {
   "cell_type": "markdown",
   "id": "6b2b17a9-c4cf-467b-b741-1d828e0682ec",
   "metadata": {},
   "source": [
    "Q5"
   ]
  },
  {
   "cell_type": "markdown",
   "id": "aa49575a-7fce-4e7c-9ea7-7b2b80e846e1",
   "metadata": {},
   "source": [
    "overriding - overriding is the method"
   ]
  },
  {
   "cell_type": "code",
   "execution_count": null,
   "id": "9e84e417-f5c7-40c1-96a1-084224b34239",
   "metadata": {},
   "outputs": [],
   "source": []
  },
  {
   "cell_type": "code",
   "execution_count": 46,
   "id": "9633eeac-3008-4560-993f-7f123b7a9dad",
   "metadata": {},
   "outputs": [
    {
     "name": "stdout",
     "output_type": "stream",
     "text": [
      "Dog barks\n",
      "Cat meows\n"
     ]
    }
   ],
   "source": [
    "class Animal:\n",
    "    def sound(self):\n",
    "        print(\"Animal makes a sound\")\n",
    "\n",
    "class Dog(Animal):\n",
    "    def sound(self):\n",
    "        print(\"Dog barks\")\n",
    "\n",
    "class Cat(Animal):\n",
    "    def sound(self):\n",
    "        print(\"Cat meows\")\n",
    "\n",
    "# Create instances of Dog and Cat classes\n",
    "dog = Dog()\n",
    "cat = Cat()\n",
    "\n",
    "# Call the sound() method on instances\n",
    "dog.sound()  # Output: Dog barks\n",
    "cat.sound()  # Output: Cat meows\n",
    "    "
   ]
  },
  {
   "cell_type": "code",
   "execution_count": null,
   "id": "741c27a3-1704-4eb4-84f5-6c6ea456f147",
   "metadata": {},
   "outputs": [],
   "source": []
  }
 ],
 "metadata": {
  "kernelspec": {
   "display_name": "Python 3 (ipykernel)",
   "language": "python",
   "name": "python3"
  },
  "language_info": {
   "codemirror_mode": {
    "name": "ipython",
    "version": 3
   },
   "file_extension": ".py",
   "mimetype": "text/x-python",
   "name": "python",
   "nbconvert_exporter": "python",
   "pygments_lexer": "ipython3",
   "version": "3.10.8"
  }
 },
 "nbformat": 4,
 "nbformat_minor": 5
}
