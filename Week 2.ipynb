{
 "cells": [
  {
   "cell_type": "markdown",
   "id": "4a6385f0-dfa0-4c29-985b-29d5426f169f",
   "metadata": {},
   "source": [
    "Q1"
   ]
  },
  {
   "cell_type": "markdown",
   "id": "8c6ab0bd-b627-4561-911e-55514d00b226",
   "metadata": {},
   "source": [
    "There are two types of comments in python\n"
   ]
  },
  {
   "cell_type": "markdown",
   "id": "433ff2ab-46cc-4337-b988-21c9c986a3c1",
   "metadata": {},
   "source": [
    "1.Single line comment = As name itself says the comment can be written for only one line. single line comment can be done by putting the \"#\" while starting the line. If we want more than 1 line we can put \"#\" for every new line"
   ]
  },
  {
   "cell_type": "code",
   "execution_count": 2,
   "id": "02845125-c7c9-420b-9e1b-edadcfaac116",
   "metadata": {},
   "outputs": [],
   "source": [
    "#My name is shahbaz Hasan\n",
    "#pwskills is really doing great work."
   ]
  },
  {
   "cell_type": "markdown",
   "id": "46576bbc-76a8-43bb-88a3-a7aeccc1f356",
   "metadata": {},
   "source": [
    "2.Multiline comment = As name itself says the comment can be written for multiple lines. It can be done by putting \"\"\" (3 inverted commas) at the starting and ending point of comment content."
   ]
  },
  {
   "cell_type": "code",
   "execution_count": null,
   "id": "85a8850c-0c22-4615-9b52-98972d7da21f",
   "metadata": {},
   "outputs": [],
   "source": [
    "\"\"\"my name is shahbaz hasan\n",
    "I will be job ready at the end of the course\n",
    "I am interested to join ineuron as an intern now\"\"\""
   ]
  },
  {
   "cell_type": "markdown",
   "id": "ccc7caa4-84a7-4733-acea-7693d0ba63a4",
   "metadata": {},
   "source": [
    "Note = The triple quotes can also be use for docstring(documentstring).\n",
    "The main function of docstring is put comment to ensure the understanding of function for users."
   ]
  },
  {
   "cell_type": "markdown",
   "id": "7dac2576-59e6-47ee-b2d7-a7394e877f40",
   "metadata": {},
   "source": [
    "Q2"
   ]
  },
  {
   "cell_type": "markdown",
   "id": "73c3549d-b47a-476a-85e5-e01cbe2b848b",
   "metadata": {},
   "source": [
    "Variable = Variable are used to store and represent data in python. Variables are the entity given to data which can me called from that variable . A variable is a named location in the computer's memory where data can be stored, accessed, and manipulated during the execution of a program."
   ]
  },
  {
   "cell_type": "markdown",
   "id": "dacbde2e-d6ec-4f45-8d8d-8b77c0a06f42",
   "metadata": {},
   "source": [
    "Variable_declaration = we can declare a variable by giving it a name. The name should follow certain rules, such as starting with a letter or underscore, and can contain letters, digits, and underscores. The variable name should also be meaningful and descriptive of the data it represents."
   ]
  },
  {
   "cell_type": "markdown",
   "id": "11e0e1b9-9c63-4d15-8d25-b966fdfd7435",
   "metadata": {},
   "source": [
    "Variable assignment = variable assignment can be done by using (= assignment operator). The value can be of any data type"
   ]
  },
  {
   "cell_type": "code",
   "execution_count": null,
   "id": "465da718-de66-4c33-bdb6-da41be9beb8d",
   "metadata": {},
   "outputs": [],
   "source": [
    "# String data type\n",
    "name = \"Shahbaz\" #here name is a variable\n",
    "\n",
    "#Int data type\n",
    "num_1 = 25 #here num_1 is a variable \n",
    "\n",
    "#boolean data type\n",
    "age = True"
   ]
  },
  {
   "cell_type": "markdown",
   "id": "e1464c77-074e-49f1-ad30-a22bdc967918",
   "metadata": {},
   "source": [
    "In this examples we declare name, num_1, age as variables and assigned them the string, int and boolean values respectively"
   ]
  },
  {
   "cell_type": "markdown",
   "id": "57bf4da9-80d7-4635-bc7c-ccfb23d391c9",
   "metadata": {},
   "source": [
    "Q3"
   ]
  },
  {
   "cell_type": "markdown",
   "id": "045c5e17-57ed-4302-8b04-0f3aac884e69",
   "metadata": {},
   "source": [
    "The conversion of one data type to another in python is known as type conversion. There are two types of type conversion in python.\n",
    "1.Implicit\n",
    "2.Explicit"
   ]
  },
  {
   "cell_type": "markdown",
   "id": "4ce4da84-7cfd-445b-915d-e4da0b7fcb64",
   "metadata": {},
   "source": [
    "Implicit = Implicit type conversion are the conversion of data type which is done by python by itself(default). we are not doing it manually.Take a look at example"
   ]
  },
  {
   "cell_type": "code",
   "execution_count": 2,
   "id": "dc0ebc13-e378-435d-b5e1-da30177962e9",
   "metadata": {},
   "outputs": [],
   "source": [
    "a = 2  #Int\n",
    "b = 3.4 #Float\n",
    "c= a+b"
   ]
  },
  {
   "cell_type": "code",
   "execution_count": 3,
   "id": "173c5352-317a-4972-834c-9f3cb7d5b6d6",
   "metadata": {},
   "outputs": [
    {
     "data": {
      "text/plain": [
       "5.4"
      ]
     },
     "execution_count": 3,
     "metadata": {},
     "output_type": "execute_result"
    }
   ],
   "source": [
    "c #Float"
   ]
  },
  {
   "cell_type": "markdown",
   "id": "c00ffeaa-a16f-4246-b62b-b685d1745733",
   "metadata": {},
   "source": [
    "In this example you can see the input is int and float but the output is float that is default. this is know as implicit type conversion"
   ]
  },
  {
   "cell_type": "markdown",
   "id": "083e3f12-ec73-438c-b898-59da50e486f6",
   "metadata": {},
   "source": [
    "Explicit = The explicit type conversion is the conversion of data type in which the conversion is done manually. we can convert the data type as shown in example"
   ]
  },
  {
   "cell_type": "code",
   "execution_count": 44,
   "id": "849f78d4-ff76-4136-83fe-92a571ff9024",
   "metadata": {},
   "outputs": [
    {
     "data": {
      "text/plain": [
       "20"
      ]
     },
     "execution_count": 44,
     "metadata": {},
     "output_type": "execute_result"
    }
   ],
   "source": [
    "#Example1\n",
    "\n",
    "int(20.3) #Floating is coverted into integer"
   ]
  },
  {
   "cell_type": "code",
   "execution_count": 47,
   "id": "93814c55-42c6-40f4-b3c1-023b8c6f509e",
   "metadata": {},
   "outputs": [
    {
     "name": "stdout",
     "output_type": "stream",
     "text": [
      "Here string is converted to tuple =  ('S', 'h', 'a', 'h', 'b', 'a', 'z')\n"
     ]
    }
   ],
   "source": [
    "#Example 2\n",
    "\n",
    "c= tuple(\"Shahbaz\")\n",
    "print(\"Here string is converted to tuple = \",c)\n",
    "\n"
   ]
  },
  {
   "cell_type": "code",
   "execution_count": 79,
   "id": "a71cbf16-ddb5-44e7-8ac1-70f63480dd66",
   "metadata": {},
   "outputs": [
    {
     "name": "stdout",
     "output_type": "stream",
     "text": [
      "Here dictionary is converted to list [('name', 'Shahbaz'), (2, 94)]\n"
     ]
    }
   ],
   "source": [
    "#Example 3\n",
    "c = {\"name\" : \"Shahbaz\", 2 : 94}\n",
    "print(\"Here dictionary is converted to list\",list(c.items()))"
   ]
  },
  {
   "cell_type": "markdown",
   "id": "ea8542da-d294-4ede-a52a-18461ea6ff98",
   "metadata": {},
   "source": [
    "This are the examples of explicit type conversion. from this examples we can see how we have converted the from one data type to another manually"
   ]
  },
  {
   "cell_type": "markdown",
   "id": "c790d719-d808-48dc-bf8a-1ef3850f5c63",
   "metadata": {},
   "source": [
    "Q4"
   ]
  },
  {
   "cell_type": "markdown",
   "id": "9196db16-638a-4826-b1ef-d1873076688a",
   "metadata": {},
   "source": [
    "The steps are as follows below:\n",
    "\n",
    "1.Open text editor(sublime) \n",
    "\n",
    "2.save as the file as .py extension (myscript.py)\n",
    "\n",
    "3.write python code (print(\"Hello World\")\n",
    "save file \n",
    "\n",
    "4.open command line interface (cmd)\n",
    "\n",
    "5.Navigate to directory where you have save the file\n",
    "\n",
    "6.you can run the Python script by typing python followed by the name of the script file. (python myscript.py)\n",
    "\n",
    "7.Press enter, the output will be displayed in cmd"
   ]
  },
  {
   "cell_type": "markdown",
   "id": "86bb8876-5723-4b43-9acb-9cf34fcb6d84",
   "metadata": {},
   "source": [
    "Q5"
   ]
  },
  {
   "cell_type": "code",
   "execution_count": 81,
   "id": "dbcfcb70-f036-4289-9ca0-c3671afd0113",
   "metadata": {},
   "outputs": [],
   "source": [
    "my_list = [1,2,3,4,5]"
   ]
  },
  {
   "cell_type": "code",
   "execution_count": 82,
   "id": "c0bed4a8-7b2a-47b6-a896-9aa86374f40b",
   "metadata": {},
   "outputs": [],
   "source": [
    "sub_list = my_list[1:3]"
   ]
  },
  {
   "cell_type": "code",
   "execution_count": 83,
   "id": "ceb17a32-355a-48d3-81a6-40d327bad03b",
   "metadata": {},
   "outputs": [
    {
     "data": {
      "text/plain": [
       "[2, 3]"
      ]
     },
     "execution_count": 83,
     "metadata": {},
     "output_type": "execute_result"
    }
   ],
   "source": [
    "sub_list"
   ]
  },
  {
   "cell_type": "markdown",
   "id": "0ac79c79-913f-4bbf-873a-99bfb5c6965f",
   "metadata": {},
   "source": [
    "Q6"
   ]
  },
  {
   "cell_type": "markdown",
   "id": "4ee53e11-b146-4712-9713-cd309cf3827f",
   "metadata": {},
   "source": [
    "Complex Numbers = In mathematics the complex number is represented by x + yi. where x is real part and y is imaginary part represented by i.\n",
    "\n",
    "In python the complex number is represented by a+bj where a is real part and imaginary part is represented by j in python. Here a and b can be integer of floating point interger"
   ]
  },
  {
   "cell_type": "code",
   "execution_count": 1,
   "id": "b8327074-dea1-493f-804e-81b1baf70446",
   "metadata": {},
   "outputs": [],
   "source": [
    "#Examples\n",
    "\n",
    "x = 2 + 9j\n",
    "y = 3 - 45j\n",
    "\n",
    "#Here in this example 2 & 3 are real number and 9 & 45 are imaginary number which is represented by j\n"
   ]
  },
  {
   "cell_type": "code",
   "execution_count": 7,
   "id": "e9a0dc56-d909-4a1e-8d70-375a165bad3c",
   "metadata": {},
   "outputs": [],
   "source": [
    "#We can do operations on complex numbers\n",
    "\n",
    "c = x+y\n",
    "c = y*x\n"
   ]
  },
  {
   "cell_type": "code",
   "execution_count": 9,
   "id": "0c0d11c7-99ff-422e-bbf4-6e9266306e8d",
   "metadata": {},
   "outputs": [
    {
     "data": {
      "text/plain": [
       "complex"
      ]
     },
     "execution_count": 9,
     "metadata": {},
     "output_type": "execute_result"
    }
   ],
   "source": [
    "type(c)\n"
   ]
  },
  {
   "cell_type": "code",
   "execution_count": 11,
   "id": "c78c35bf-04e3-471b-9876-5f60c69b06f3",
   "metadata": {},
   "outputs": [
    {
     "data": {
      "text/plain": [
       "-36.0"
      ]
     },
     "execution_count": 11,
     "metadata": {},
     "output_type": "execute_result"
    }
   ],
   "source": [
    "#We can also extract real and imaginary part from complex numbers\n",
    "\n",
    "c.real  #Extracting real part\n",
    "\n",
    "c.imag  #Extracting imaginary part"
   ]
  },
  {
   "cell_type": "markdown",
   "id": "be36e8ec-a6ae-43c0-914c-6f876f35bd4a",
   "metadata": {},
   "source": [
    "Q7"
   ]
  },
  {
   "cell_type": "markdown",
   "id": "4921f476-3ce9-4730-8e03-f9c558347e75",
   "metadata": {},
   "source": [
    "The correct way to declare variable name age and assign the value as 25 is as follow"
   ]
  },
  {
   "cell_type": "code",
   "execution_count": 12,
   "id": "a39c21ef-1b30-402e-af4a-f37fbeadbaca",
   "metadata": {},
   "outputs": [],
   "source": [
    "age = 25"
   ]
  },
  {
   "cell_type": "markdown",
   "id": "94edccc7-70a3-4e81-babd-48a7163f566e",
   "metadata": {},
   "source": [
    "In this code, age is the variable name, and 25 is the value assigned to the variable. The assignment is done using the assignment operator (=). Once the value is assigned, the variable age holds the value 25 and can be used in subsequent code."
   ]
  },
  {
   "cell_type": "markdown",
   "id": "7a7fbb66-d166-482e-8375-b085059b0048",
   "metadata": {},
   "source": [
    "Q8"
   ]
  },
  {
   "cell_type": "code",
   "execution_count": 13,
   "id": "3cbd5145-2d91-4911-92ef-f050b0663c92",
   "metadata": {},
   "outputs": [],
   "source": [
    "price = 9.99T"
   ]
  },
  {
   "cell_type": "code",
   "execution_count": 14,
   "id": "bc69f53d-d476-4c83-ab60-629fb4a67814",
   "metadata": {},
   "outputs": [
    {
     "data": {
      "text/plain": [
       "float"
      ]
     },
     "execution_count": 14,
     "metadata": {},
     "output_type": "execute_result"
    }
   ],
   "source": [
    "type(price)"
   ]
  },
  {
   "cell_type": "markdown",
   "id": "4d5caa2e-f81c-4a95-a101-1893fe7316dc",
   "metadata": {},
   "source": [
    "This data type belong to data type float"
   ]
  },
  {
   "cell_type": "markdown",
   "id": "cfb4ffae-f8e2-416c-8d26-e0ddd4f577cc",
   "metadata": {},
   "source": [
    "Q9"
   ]
  },
  {
   "cell_type": "code",
   "execution_count": 15,
   "id": "61e2ddc0-ac3f-4263-837d-ba91945498ba",
   "metadata": {},
   "outputs": [],
   "source": [
    "name =  \"Shahbaz Hasan Anwarul Hasan Sheikh\""
   ]
  },
  {
   "cell_type": "code",
   "execution_count": 16,
   "id": "d4d02006-69e3-4877-903c-804b71e65cea",
   "metadata": {},
   "outputs": [
    {
     "data": {
      "text/plain": [
       "'Shahbaz Hasan Anwarul Hasan Sheikh'"
      ]
     },
     "execution_count": 16,
     "metadata": {},
     "output_type": "execute_result"
    }
   ],
   "source": [
    "print(name)"
   ]
  },
  {
   "cell_type": "markdown",
   "id": "1a8f8c38-6404-4225-8a52-e4233e4ddd8a",
   "metadata": {},
   "source": [
    "By using print function & calling the variable name which is given as (name) we can print the value of variable."
   ]
  },
  {
   "cell_type": "markdown",
   "id": "2a07e2ef-b421-4e4b-8778-ff44c97853f9",
   "metadata": {},
   "source": [
    "Q10"
   ]
  },
  {
   "cell_type": "code",
   "execution_count": 27,
   "id": "b8c5091b-9dcc-4a39-ada5-a3cf61736946",
   "metadata": {},
   "outputs": [],
   "source": [
    "q10 = \"Hello, World!\""
   ]
  },
  {
   "cell_type": "code",
   "execution_count": 29,
   "id": "5a088690-d4a3-4eca-bcb8-94e7990d1d95",
   "metadata": {},
   "outputs": [],
   "source": [
    "s = q10[7:200]"
   ]
  },
  {
   "cell_type": "code",
   "execution_count": 30,
   "id": "dad02975-6021-4059-abac-da130c476dba",
   "metadata": {},
   "outputs": [
    {
     "data": {
      "text/plain": [
       "'World!'"
      ]
     },
     "execution_count": 30,
     "metadata": {},
     "output_type": "execute_result"
    }
   ],
   "source": [
    "s"
   ]
  },
  {
   "cell_type": "markdown",
   "id": "7e4ab96c-65e9-4c39-a768-08ca6dbab2bb",
   "metadata": {},
   "source": [
    "Q11"
   ]
  },
  {
   "cell_type": "code",
   "execution_count": 37,
   "id": "715f763a-d136-4893-872a-10623eb5ebf7",
   "metadata": {},
   "outputs": [],
   "source": [
    "is_student = False"
   ]
  },
  {
   "cell_type": "code",
   "execution_count": 38,
   "id": "d41cb8c0-c40a-4660-9da4-f8018f4622b4",
   "metadata": {},
   "outputs": [
    {
     "data": {
      "text/plain": [
       "False"
      ]
     },
     "execution_count": 38,
     "metadata": {},
     "output_type": "execute_result"
    }
   ],
   "source": [
    "is_student"
   ]
  },
  {
   "cell_type": "code",
   "execution_count": null,
   "id": "409c4f6d-e0cf-4586-b839-b7a672f98d24",
   "metadata": {},
   "outputs": [],
   "source": []
  }
 ],
 "metadata": {
  "kernelspec": {
   "display_name": "Python 3 (ipykernel)",
   "language": "python",
   "name": "python3"
  },
  "language_info": {
   "codemirror_mode": {
    "name": "ipython",
    "version": 3
   },
   "file_extension": ".py",
   "mimetype": "text/x-python",
   "name": "python",
   "nbconvert_exporter": "python",
   "pygments_lexer": "ipython3",
   "version": "3.10.8"
  }
 },
 "nbformat": 4,
 "nbformat_minor": 5
}
